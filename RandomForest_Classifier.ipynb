{
  "nbformat": 4,
  "nbformat_minor": 0,
  "metadata": {
    "colab": {
      "name": "RandomForest-Classifier.ipynb",
      "provenance": []
    },
    "kernelspec": {
      "name": "python3",
      "display_name": "Python 3"
    },
    "language_info": {
      "name": "python"
    }
  },
  "cells": [
    {
      "cell_type": "code",
      "execution_count": 35,
      "metadata": {
        "id": "AaEA-s_Cv7lj"
      },
      "outputs": [],
      "source": [
        "import numpy as np\n",
        "import pandas as pd\n",
        "import matplotlib.pyplot as plt"
      ]
    },
    {
      "cell_type": "markdown",
      "source": [
        "#Importing the dataset and selecting the columns"
      ],
      "metadata": {
        "id": "ge6YFFQa5FG7"
      }
    },
    {
      "cell_type": "code",
      "source": [
        "dataset = pd.read_csv('datathon_train.csv')\n",
        "dataset.drop(dataset.columns[[0,5,6,7,9,10,11,12,13,14,16,17,18,19]], axis = 1, inplace = True)\n",
        "X = dataset.iloc[:, :-1].values\n",
        "y = dataset.iloc[:, -1].values"
      ],
      "metadata": {
        "id": "JlITAkYqwmqH"
      },
      "execution_count": 36,
      "outputs": []
    },
    {
      "cell_type": "code",
      "source": [
        "X"
      ],
      "metadata": {
        "colab": {
          "base_uri": "https://localhost:8080/"
        },
        "id": "-Rov_N409ICj",
        "outputId": "2f01ba1b-acda-499d-ac67-5047fd7caaa9"
      },
      "execution_count": 37,
      "outputs": [
        {
          "output_type": "execute_result",
          "data": {
            "text/plain": [
              "array([['M', 'Y', 'N', ..., 0, 0.631220343, 5],\n",
              "       ['M', 'Y', 'Y', ..., 0, 0.392746019, 3],\n",
              "       ['M', 'Y', 'Y', ..., 0, 0.222536676, 2],\n",
              "       ...,\n",
              "       ['F', 'Y', 'Y', ..., 1, 0.826586671, 1],\n",
              "       ['M', 'Y', 'Y', ..., 0, 0.103523331, 5],\n",
              "       ['M', 'Y', 'Y', ..., 1, 0.435078756, 5]], dtype=object)"
            ]
          },
          "metadata": {},
          "execution_count": 37
        }
      ]
    },
    {
      "cell_type": "markdown",
      "source": [
        "#Encoding the categorical variables"
      ],
      "metadata": {
        "id": "rdfRVOIJ5PFb"
      }
    },
    {
      "cell_type": "code",
      "source": [
        "from sklearn.preprocessing import LabelEncoder\n",
        "from sklearn.compose import ColumnTransformer\n",
        "from sklearn.preprocessing import OneHotEncoder\n",
        "le = LabelEncoder()\n",
        "#gender\n",
        "X[:, 0] = le.fit_transform(X[:, 2])\n",
        "#s11\n",
        "X[:, 1] = le.fit_transform(X[:, 2])\n",
        "#s12\n",
        "X[:, 2] = le.fit_transform(X[:, 2])\n",
        "#s58\n",
        "X[:, 5] = le.fit_transform(X[:, 2])"
      ],
      "metadata": {
        "id": "dKtfEqzmw-DO"
      },
      "execution_count": 38,
      "outputs": []
    },
    {
      "cell_type": "code",
      "source": [
        "'''from sklearn.impute import SimpleImputer \n",
        "imputer=SimpleImputer(missing_values=np.NAN,strategy='mean',fill_value=None,verbose=0,copy=True)\n",
        "imputer=imputer.fit(X[:,:]) \n",
        "X[:,:]=imputer.transform(X[:,:])'''"
      ],
      "metadata": {
        "colab": {
          "base_uri": "https://localhost:8080/",
          "height": 53
        },
        "id": "ADL-AbFW2l0T",
        "outputId": "b56266e3-8a46-4222-c9df-cd4523efecd6"
      },
      "execution_count": 39,
      "outputs": [
        {
          "output_type": "execute_result",
          "data": {
            "text/plain": [
              "\"from sklearn.impute import SimpleImputer \\nimputer=SimpleImputer(missing_values=np.NAN,strategy='mean',fill_value=None,verbose=0,copy=True)\\nimputer=imputer.fit(X[:,:]) \\nX[:,:]=imputer.transform(X[:,:])\""
            ],
            "application/vnd.google.colaboratory.intrinsic+json": {
              "type": "string"
            }
          },
          "metadata": {},
          "execution_count": 39
        }
      ]
    },
    {
      "cell_type": "markdown",
      "source": [
        "#Splitting the dataset"
      ],
      "metadata": {
        "id": "PA9IDe8-5lCT"
      }
    },
    {
      "cell_type": "code",
      "source": [
        "from sklearn.model_selection import train_test_split\n",
        "X_train, X_test, y_train, y_test = train_test_split(X, y, test_size = 0.2, random_state = 0)"
      ],
      "metadata": {
        "id": "Mj1SsOpd02FG"
      },
      "execution_count": 40,
      "outputs": []
    },
    {
      "cell_type": "code",
      "source": [
        "print(y_train)"
      ],
      "metadata": {
        "colab": {
          "base_uri": "https://localhost:8080/"
        },
        "id": "eNEruT1GKaKq",
        "outputId": "9328f8c8-7e0b-4da0-bf27-d616a3cd11fd"
      },
      "execution_count": 41,
      "outputs": [
        {
          "output_type": "stream",
          "name": "stdout",
          "text": [
            "[0 0 0 ... 0 0 0]\n"
          ]
        }
      ]
    },
    {
      "cell_type": "markdown",
      "source": [
        "#Feature Scaling"
      ],
      "metadata": {
        "id": "JA1NcQi05nmT"
      }
    },
    {
      "cell_type": "code",
      "source": [
        "from sklearn.preprocessing import StandardScaler\n",
        "sc = StandardScaler()\n",
        "X_train = sc.fit_transform(X_train)\n",
        "X_test = sc.transform(X_test)"
      ],
      "metadata": {
        "id": "pcOD0TOs1Mn4"
      },
      "execution_count": 42,
      "outputs": []
    },
    {
      "cell_type": "markdown",
      "source": [
        "#Training the RandomForest model on the Training set"
      ],
      "metadata": {
        "id": "rayO8bTI5qNk"
      }
    },
    {
      "cell_type": "code",
      "source": [
        "from sklearn.ensemble import RandomForestClassifier\n",
        "classifier = RandomForestClassifier(n_estimators = 10, criterion = 'entropy', random_state = 0)\n",
        "classifier.fit(X_train, y_train)"
      ],
      "metadata": {
        "id": "o_aIDWVA1RLC",
        "colab": {
          "base_uri": "https://localhost:8080/"
        },
        "outputId": "d2f3c9e9-fc14-40c7-bbd8-4f931cf31d22"
      },
      "execution_count": 43,
      "outputs": [
        {
          "output_type": "execute_result",
          "data": {
            "text/plain": [
              "RandomForestClassifier(criterion='entropy', n_estimators=10, random_state=0)"
            ]
          },
          "metadata": {},
          "execution_count": 43
        }
      ]
    },
    {
      "cell_type": "markdown",
      "source": [
        "#Predicting test-set results"
      ],
      "metadata": {
        "id": "6YIDR5og5z8U"
      }
    },
    {
      "cell_type": "code",
      "source": [
        "y_pred = classifier.predict(X_test)\n",
        "print(np.concatenate((y_pred.reshape(len(y_pred),1), y_test.reshape(len(y_test),1)),1))"
      ],
      "metadata": {
        "id": "bdtlc7KH52Lj",
        "colab": {
          "base_uri": "https://localhost:8080/"
        },
        "outputId": "ac7f2f36-628c-4aa8-d076-b47e9efcc63a"
      },
      "execution_count": 44,
      "outputs": [
        {
          "output_type": "stream",
          "name": "stdout",
          "text": [
            "[[1 1]\n",
            " [0 0]\n",
            " [0 0]\n",
            " ...\n",
            " [0 0]\n",
            " [0 0]\n",
            " [0 0]]\n"
          ]
        }
      ]
    },
    {
      "cell_type": "markdown",
      "source": [
        "#Making the confusion matrix"
      ],
      "metadata": {
        "id": "barktXuZ549C"
      }
    },
    {
      "cell_type": "code",
      "source": [
        "from sklearn.metrics import confusion_matrix, accuracy_score\n",
        "cm = confusion_matrix(y_test, y_pred)\n",
        "print(cm)\n",
        "accuracy_score(y_test, y_pred)"
      ],
      "metadata": {
        "id": "A6u36XQF596r",
        "colab": {
          "base_uri": "https://localhost:8080/"
        },
        "outputId": "95d950f7-2d43-40c5-8233-5e959cc4dc5c"
      },
      "execution_count": 45,
      "outputs": [
        {
          "output_type": "stream",
          "name": "stdout",
          "text": [
            "[[4564  138]\n",
            " [ 711  252]]\n"
          ]
        },
        {
          "output_type": "execute_result",
          "data": {
            "text/plain": [
              "0.8501323918799647"
            ]
          },
          "metadata": {},
          "execution_count": 45
        }
      ]
    }
  ]
}