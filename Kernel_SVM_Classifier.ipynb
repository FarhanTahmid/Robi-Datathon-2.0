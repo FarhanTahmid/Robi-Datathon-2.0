{
  "cells": [
    {
      "cell_type": "code",
      "execution_count": 1,
      "metadata": {
        "id": "AaEA-s_Cv7lj"
      },
      "outputs": [],
      "source": [
        "import numpy as np\n",
        "import pandas as pd\n",
        "import matplotlib.pyplot as plt"
      ]
    },
    {
      "cell_type": "markdown",
      "metadata": {
        "id": "ge6YFFQa5FG7"
      },
      "source": [
        "#Importing the dataset and selecting the columns"
      ]
    },
    {
      "cell_type": "code",
      "execution_count": 3,
      "metadata": {
        "id": "JlITAkYqwmqH"
      },
      "outputs": [],
      "source": [
        "dataset = pd.read_csv('train.csv')\n",
        "dataset.drop(dataset.columns[[0,5,6,7,9,10,11,12,13,14,16,17,18,19]], axis = 1, inplace = True)\n",
        "X = dataset.iloc[:, :-1].values\n",
        "y = dataset.iloc[:, -1].values"
      ]
    },
    {
      "cell_type": "code",
      "execution_count": 26,
      "metadata": {
        "colab": {
          "base_uri": "https://localhost:8080/"
        },
        "id": "-Rov_N409ICj",
        "outputId": "178e46f6-ef33-42bb-fb73-0f5a678db2c0"
      },
      "outputs": [
        {
          "data": {
            "text/plain": [
              "array([['M', 'Y', 'N', ..., 0, 0.631220343, 5],\n",
              "       ['M', 'Y', 'Y', ..., 0, 0.392746019, 3],\n",
              "       ['M', 'Y', 'Y', ..., 0, 0.222536676, 2],\n",
              "       ...,\n",
              "       ['F', 'Y', 'Y', ..., 1, 0.826586671, 1],\n",
              "       ['M', 'Y', 'Y', ..., 0, 0.103523331, 5],\n",
              "       ['M', 'Y', 'Y', ..., 1, 0.435078756, 5]], dtype=object)"
            ]
          },
          "execution_count": 26,
          "metadata": {},
          "output_type": "execute_result"
        }
      ],
      "source": []
    },
    {
      "cell_type": "markdown",
      "metadata": {
        "id": "rdfRVOIJ5PFb"
      },
      "source": [
        "#Encoding the categorical variables"
      ]
    },
    {
      "cell_type": "code",
      "execution_count": 4,
      "metadata": {
        "id": "dKtfEqzmw-DO"
      },
      "outputs": [],
      "source": [
        "from sklearn.preprocessing import LabelEncoder\n",
        "from sklearn.compose import ColumnTransformer\n",
        "from sklearn.preprocessing import OneHotEncoder\n",
        "le = LabelEncoder()\n",
        "#gender\n",
        "X[:, 0] = le.fit_transform(X[:, 2])\n",
        "#s11\n",
        "X[:, 1] = le.fit_transform(X[:, 2])\n",
        "#s12\n",
        "X[:, 2] = le.fit_transform(X[:, 2])\n",
        "#s58\n",
        "X[:, 5] = le.fit_transform(X[:, 2])"
      ]
    },
    {
      "cell_type": "code",
      "execution_count": 5,
      "metadata": {},
      "outputs": [],
      "source": [
        "X=pd.DataFrame(X)\n",
        "X[9].replace(to_replace = 'l', value ='1',inplace=True)\n",
        "X[9].replace(to_replace = 'o', value ='0',inplace=True)\n",
        "\n",
        "#extracting numerical values from s54\n",
        "X[10].replace(to_replace = 'b2', value ='0',inplace=True)\n",
        "X[10].replace(to_replace = '2b', value ='0',inplace=True)\n",
        "X[10].replace(to_replace = 'bb', value ='0',inplace=True)\n",
        "X[10].replace(to_replace = 'aa', value ='1',inplace=True)\n",
        "X[10].replace(to_replace = 'a2', value ='1',inplace=True)\n",
        "X[10].replace(to_replace = '2a', value ='1',inplace=True)\n",
        "X[10].replace(to_replace = 'ab', value ='3',inplace=True)\n",
        "X[10].replace(to_replace = 'ba', value ='3',inplace=True)\n",
        "X[10].replace(to_replace = '22', value ='2',inplace=True)\n",
        "\n",
        "X[11].replace(to_replace = 'kK', value ='0',inplace=True)\n",
        "X[11].replace(to_replace = 'kk', value ='0',inplace=True)\n",
        "X[11].replace(to_replace = '2K', value ='0',inplace=True)\n",
        "X[11].replace(to_replace = 'k2', value ='0',inplace=True)\n",
        "X[11].replace(to_replace = 'KK', value ='0',inplace=True)\n",
        "X[11].replace(to_replace = 'Kk', value ='0',inplace=True)\n",
        "X[11].replace(to_replace = '2k', value ='0',inplace=True)\n",
        "X[11].replace(to_replace = 'K2', value ='0',inplace=True)\n",
        "X[11].replace(to_replace = '22', value ='1',inplace=True)"
      ]
    },
    {
      "cell_type": "code",
      "execution_count": 28,
      "metadata": {
        "colab": {
          "base_uri": "https://localhost:8080/",
          "height": 53
        },
        "id": "ADL-AbFW2l0T",
        "outputId": "9686dc64-10cb-498e-ea94-bfe1a6587ae9"
      },
      "outputs": [
        {
          "data": {
            "application/vnd.google.colaboratory.intrinsic+json": {
              "type": "string"
            },
            "text/plain": [
              "\"from sklearn.impute import SimpleImputer \\nimputer=SimpleImputer(missing_values=np.NAN,strategy='mean',fill_value=None,verbose=0,copy=True)\\nimputer=imputer.fit(X[:,:]) \\nX[:,:]=imputer.transform(X[:,:])\""
            ]
          },
          "execution_count": 28,
          "metadata": {},
          "output_type": "execute_result"
        }
      ],
      "source": [
        "'''from sklearn.impute import SimpleImputer \n",
        "imputer=SimpleImputer(missing_values=np.NAN,strategy='mean',fill_value=None,verbose=0,copy=True)\n",
        "imputer=imputer.fit(X[:,:]) \n",
        "X[:,:]=imputer.transform(X[:,:])'''"
      ]
    },
    {
      "cell_type": "markdown",
      "metadata": {
        "id": "PA9IDe8-5lCT"
      },
      "source": [
        "#Splitting the dataset"
      ]
    },
    {
      "cell_type": "code",
      "execution_count": 6,
      "metadata": {
        "id": "Mj1SsOpd02FG"
      },
      "outputs": [],
      "source": [
        "from sklearn.model_selection import train_test_split\n",
        "X_train, X_test, y_train, y_test = train_test_split(X, y, test_size = 0.2, random_state = 0)"
      ]
    },
    {
      "cell_type": "code",
      "execution_count": 30,
      "metadata": {
        "colab": {
          "base_uri": "https://localhost:8080/"
        },
        "id": "eNEruT1GKaKq",
        "outputId": "9ccaa47f-dc07-41ce-f2d4-345d91b49f5b"
      },
      "outputs": [
        {
          "name": "stdout",
          "output_type": "stream",
          "text": [
            "[0 0 0 ... 0 0 0]\n"
          ]
        }
      ],
      "source": [
        "print(y_train)"
      ]
    },
    {
      "cell_type": "markdown",
      "metadata": {
        "id": "JA1NcQi05nmT"
      },
      "source": [
        "#Feature Scaling"
      ]
    },
    {
      "cell_type": "code",
      "execution_count": 7,
      "metadata": {
        "id": "pcOD0TOs1Mn4"
      },
      "outputs": [],
      "source": [
        "from sklearn.preprocessing import StandardScaler\n",
        "sc = StandardScaler()\n",
        "X_train = sc.fit_transform(X_train)\n",
        "X_test = sc.transform(X_test)"
      ]
    },
    {
      "cell_type": "markdown",
      "metadata": {
        "id": "rayO8bTI5qNk"
      },
      "source": [
        "#Training the SVM model on the Training set"
      ]
    },
    {
      "cell_type": "code",
      "execution_count": 8,
      "metadata": {
        "colab": {
          "base_uri": "https://localhost:8080/"
        },
        "id": "o_aIDWVA1RLC",
        "outputId": "726155bb-c1aa-4502-b958-237ee0d5e08f"
      },
      "outputs": [
        {
          "data": {
            "text/plain": [
              "SVC(random_state=0)"
            ]
          },
          "execution_count": 8,
          "metadata": {},
          "output_type": "execute_result"
        }
      ],
      "source": [
        "from sklearn.svm import SVC\n",
        "classifier = SVC(kernel = 'rbf', random_state = 0)\n",
        "classifier.fit(X_train, y_train)"
      ]
    },
    {
      "cell_type": "markdown",
      "metadata": {
        "id": "6YIDR5og5z8U"
      },
      "source": [
        "#Predicting test-set results"
      ]
    },
    {
      "cell_type": "code",
      "execution_count": 9,
      "metadata": {
        "colab": {
          "base_uri": "https://localhost:8080/"
        },
        "id": "bdtlc7KH52Lj",
        "outputId": "cd5285f9-84da-44bd-aeea-eddca2a7a543"
      },
      "outputs": [
        {
          "name": "stdout",
          "output_type": "stream",
          "text": [
            "[[1 1]\n",
            " [0 0]\n",
            " [0 0]\n",
            " ...\n",
            " [0 0]\n",
            " [0 0]\n",
            " [0 0]]\n"
          ]
        }
      ],
      "source": [
        "y_pred = classifier.predict(X_test)\n",
        "print(np.concatenate((y_pred.reshape(len(y_pred),1), y_test.reshape(len(y_test),1)),1))"
      ]
    },
    {
      "cell_type": "markdown",
      "metadata": {
        "id": "barktXuZ549C"
      },
      "source": [
        "#Making the confusion matrix"
      ]
    },
    {
      "cell_type": "code",
      "execution_count": 23,
      "metadata": {
        "colab": {
          "base_uri": "https://localhost:8080/"
        },
        "id": "A6u36XQF596r",
        "outputId": "24cb27e6-565d-4f17-dee0-11ba6a447258"
      },
      "outputs": [
        {
          "name": "stdout",
          "output_type": "stream",
          "text": [
            "[[4648   54]\n",
            " [ 791  172]]\n"
          ]
        },
        {
          "data": {
            "text/plain": [
              "85.0838481906443"
            ]
          },
          "execution_count": 23,
          "metadata": {},
          "output_type": "execute_result"
        }
      ],
      "source": [
        "from sklearn.metrics import confusion_matrix, accuracy_score\n",
        "cm = confusion_matrix(y_test, y_pred)\n",
        "print(cm)\n",
        "accuracy_score(y_test, y_pred)*100"
      ]
    }
  ],
  "metadata": {
    "colab": {
      "name": "Kernel-SVM-Classifier.ipynb",
      "provenance": []
    },
    "interpreter": {
      "hash": "e3a23f12c2cb1429499839e5969ee8318b524045ad5ede214855831a40d1ec07"
    },
    "kernelspec": {
      "display_name": "Python 3.9.12 ('base')",
      "language": "python",
      "name": "python3"
    },
    "language_info": {
      "codemirror_mode": {
        "name": "ipython",
        "version": 3
      },
      "file_extension": ".py",
      "mimetype": "text/x-python",
      "name": "python",
      "nbconvert_exporter": "python",
      "pygments_lexer": "ipython3",
      "version": "3.9.12"
    }
  },
  "nbformat": 4,
  "nbformat_minor": 0
}
