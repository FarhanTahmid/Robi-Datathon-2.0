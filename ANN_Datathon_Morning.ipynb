{
  "cells": [
    {
      "cell_type": "code",
      "execution_count": 1,
      "metadata": {
        "id": "AaEA-s_Cv7lj"
      },
      "outputs": [],
      "source": [
        "import numpy as np\n",
        "import pandas as pd\n",
        "import matplotlib.pyplot as plt\n",
        "import tensorflow as tf"
      ]
    },
    {
      "cell_type": "markdown",
      "metadata": {
        "id": "ge6YFFQa5FG7"
      },
      "source": [
        "#Importing the dataset and selecting the columns"
      ]
    },
    {
      "cell_type": "code",
      "execution_count": 2,
      "metadata": {
        "id": "JlITAkYqwmqH"
      },
      "outputs": [],
      "source": [
        "dataset = pd.read_csv('datathon_train.csv')\n",
        "dataset.drop(dataset.columns[[0,5,6,7,9,10,11,12,13,14,16,17,18,19]], axis = 1, inplace = True)\n",
        "X = dataset.iloc[:, :-1].values\n",
        "y = dataset.iloc[:, -1].values"
      ]
    },
    {
      "cell_type": "markdown",
      "metadata": {
        "id": "rdfRVOIJ5PFb"
      },
      "source": [
        "#Encoding the categorical variables"
      ]
    },
    {
      "cell_type": "code",
      "execution_count": 3,
      "metadata": {
        "id": "dKtfEqzmw-DO"
      },
      "outputs": [],
      "source": [
        "from sklearn.preprocessing import LabelEncoder\n",
        "from sklearn.compose import ColumnTransformer\n",
        "from sklearn.preprocessing import OneHotEncoder\n",
        "le = LabelEncoder()\n",
        "#gender\n",
        "X[:, 0] = le.fit_transform(X[:, 2])\n",
        "#s11\n",
        "X[:, 1] = le.fit_transform(X[:, 2])\n",
        "#s12\n",
        "X[:, 2] = le.fit_transform(X[:, 2])\n",
        "#s58\n",
        "X[:, 5] = le.fit_transform(X[:, 2])"
      ]
    },
    {
      "cell_type": "code",
      "execution_count": 4,
      "metadata": {
        "colab": {
          "base_uri": "https://localhost:8080/",
          "height": 53
        },
        "id": "ADL-AbFW2l0T",
        "outputId": "f274d4f6-e64a-4fd7-f5c7-cd968d0ebb88"
      },
      "outputs": [
        {
          "data": {
            "application/vnd.google.colaboratory.intrinsic+json": {
              "type": "string"
            },
            "text/plain": [
              "\"from sklearn.impute import SimpleImputer \\nimputer=SimpleImputer(missing_values=np.NAN,strategy='mean',fill_value=None,verbose=0,copy=True)\\nimputer=imputer.fit(X[:,:]) \\nX[:,:]=imputer.transform(X[:,:])\""
            ]
          },
          "execution_count": 4,
          "metadata": {},
          "output_type": "execute_result"
        }
      ],
      "source": [
        "'''from sklearn.impute import SimpleImputer \n",
        "imputer=SimpleImputer(missing_values=np.NAN,strategy='mean',fill_value=None,verbose=0,copy=True)\n",
        "imputer=imputer.fit(X[:,:]) \n",
        "X[:,:]=imputer.transform(X[:,:])'''"
      ]
    },
    {
      "cell_type": "markdown",
      "metadata": {
        "id": "PA9IDe8-5lCT"
      },
      "source": [
        "#Training the dataset"
      ]
    },
    {
      "cell_type": "code",
      "execution_count": 5,
      "metadata": {
        "id": "Mj1SsOpd02FG"
      },
      "outputs": [],
      "source": [
        "from sklearn.model_selection import train_test_split\n",
        "X_train, X_test, y_train, y_test = train_test_split(X, y, test_size = 0.2, random_state = 0)"
      ]
    },
    {
      "cell_type": "markdown",
      "metadata": {
        "id": "JA1NcQi05nmT"
      },
      "source": [
        "#Feature Scaling"
      ]
    },
    {
      "cell_type": "code",
      "execution_count": 6,
      "metadata": {
        "id": "pcOD0TOs1Mn4"
      },
      "outputs": [],
      "source": [
        "from sklearn.preprocessing import StandardScaler\n",
        "sc = StandardScaler()\n",
        "X_train = sc.fit_transform(X_train)\n",
        "X_test = sc.transform(X_test)"
      ]
    },
    {
      "cell_type": "markdown",
      "metadata": {
        "id": "rayO8bTI5qNk"
      },
      "source": [
        "#Building the ann"
      ]
    },
    {
      "cell_type": "code",
      "execution_count": 7,
      "metadata": {
        "id": "o_aIDWVA1RLC"
      },
      "outputs": [],
      "source": [
        "ann = tf.keras.models.Sequential()\n",
        "ann.add(tf.keras.layers.Dense(units=6, activation='relu'))\n",
        "ann.add(tf.keras.layers.Dense(units=6, activation='relu'))\n",
        "ann.add(tf.keras.layers.Dense(units=1, activation='sigmoid'))\n",
        "ann.compile(optimizer='adam' , loss='binary_crossentropy' , metrics=['accuracy'] )"
      ]
    },
    {
      "cell_type": "markdown",
      "metadata": {
        "id": "0bdkEn9-5sgj"
      },
      "source": [
        "#TRaining the ann"
      ]
    },
    {
      "cell_type": "code",
      "execution_count": 8,
      "metadata": {
        "colab": {
          "base_uri": "https://localhost:8080/"
        },
        "id": "YQObonBN1w5S",
        "outputId": "40b2bc3a-b317-4c65-fffc-257fc6e2266f"
      },
      "outputs": [
        {
          "name": "stdout",
          "output_type": "stream",
          "text": [
            "Epoch 1/100\n",
            "709/709 [==============================] - 2s 2ms/step - loss: 0.4555 - accuracy: 0.8216\n",
            "Epoch 2/100\n",
            "709/709 [==============================] - 1s 2ms/step - loss: 0.3731 - accuracy: 0.8507\n",
            "Epoch 3/100\n",
            "709/709 [==============================] - 1s 2ms/step - loss: 0.3651 - accuracy: 0.8566\n",
            "Epoch 4/100\n",
            "709/709 [==============================] - 1s 2ms/step - loss: 0.3623 - accuracy: 0.8577\n",
            "Epoch 5/100\n",
            "709/709 [==============================] - 1s 2ms/step - loss: 0.3607 - accuracy: 0.8574\n",
            "Epoch 6/100\n",
            "709/709 [==============================] - 1s 2ms/step - loss: 0.3594 - accuracy: 0.8580\n",
            "Epoch 7/100\n",
            "709/709 [==============================] - 1s 2ms/step - loss: 0.3587 - accuracy: 0.8590\n",
            "Epoch 8/100\n",
            "709/709 [==============================] - 1s 2ms/step - loss: 0.3578 - accuracy: 0.8598\n",
            "Epoch 9/100\n",
            "709/709 [==============================] - 1s 2ms/step - loss: 0.3573 - accuracy: 0.8592\n",
            "Epoch 10/100\n",
            "709/709 [==============================] - 1s 2ms/step - loss: 0.3565 - accuracy: 0.8589\n",
            "Epoch 11/100\n",
            "709/709 [==============================] - 1s 2ms/step - loss: 0.3561 - accuracy: 0.8596\n",
            "Epoch 12/100\n",
            "709/709 [==============================] - 2s 2ms/step - loss: 0.3554 - accuracy: 0.8598\n",
            "Epoch 13/100\n",
            "709/709 [==============================] - 2s 3ms/step - loss: 0.3550 - accuracy: 0.8600\n",
            "Epoch 14/100\n",
            "709/709 [==============================] - 1s 2ms/step - loss: 0.3546 - accuracy: 0.8600\n",
            "Epoch 15/100\n",
            "709/709 [==============================] - 1s 2ms/step - loss: 0.3542 - accuracy: 0.8602\n",
            "Epoch 16/100\n",
            "709/709 [==============================] - 1s 2ms/step - loss: 0.3540 - accuracy: 0.8600\n",
            "Epoch 17/100\n",
            "709/709 [==============================] - 1s 2ms/step - loss: 0.3537 - accuracy: 0.8607\n",
            "Epoch 18/100\n",
            "709/709 [==============================] - 1s 2ms/step - loss: 0.3536 - accuracy: 0.8595\n",
            "Epoch 19/100\n",
            "709/709 [==============================] - 1s 2ms/step - loss: 0.3537 - accuracy: 0.8607\n",
            "Epoch 20/100\n",
            "709/709 [==============================] - 1s 2ms/step - loss: 0.3534 - accuracy: 0.8599\n",
            "Epoch 21/100\n",
            "709/709 [==============================] - 1s 2ms/step - loss: 0.3533 - accuracy: 0.8603\n",
            "Epoch 22/100\n",
            "709/709 [==============================] - 1s 2ms/step - loss: 0.3529 - accuracy: 0.8598\n",
            "Epoch 23/100\n",
            "709/709 [==============================] - 1s 2ms/step - loss: 0.3532 - accuracy: 0.8602\n",
            "Epoch 24/100\n",
            "709/709 [==============================] - 1s 2ms/step - loss: 0.3530 - accuracy: 0.8606\n",
            "Epoch 25/100\n",
            "709/709 [==============================] - 1s 2ms/step - loss: 0.3529 - accuracy: 0.8604\n",
            "Epoch 26/100\n",
            "709/709 [==============================] - 1s 2ms/step - loss: 0.3526 - accuracy: 0.8608\n",
            "Epoch 27/100\n",
            "709/709 [==============================] - 1s 2ms/step - loss: 0.3525 - accuracy: 0.8603\n",
            "Epoch 28/100\n",
            "709/709 [==============================] - 1s 2ms/step - loss: 0.3525 - accuracy: 0.8602\n",
            "Epoch 29/100\n",
            "709/709 [==============================] - 1s 2ms/step - loss: 0.3524 - accuracy: 0.8596\n",
            "Epoch 30/100\n",
            "709/709 [==============================] - 1s 2ms/step - loss: 0.3523 - accuracy: 0.8605\n",
            "Epoch 31/100\n",
            "709/709 [==============================] - 2s 3ms/step - loss: 0.3521 - accuracy: 0.8601\n",
            "Epoch 32/100\n",
            "709/709 [==============================] - 2s 2ms/step - loss: 0.3524 - accuracy: 0.8595\n",
            "Epoch 33/100\n",
            "709/709 [==============================] - 1s 2ms/step - loss: 0.3522 - accuracy: 0.8605\n",
            "Epoch 34/100\n",
            "709/709 [==============================] - 1s 2ms/step - loss: 0.3519 - accuracy: 0.8609\n",
            "Epoch 35/100\n",
            "709/709 [==============================] - 1s 2ms/step - loss: 0.3517 - accuracy: 0.8613\n",
            "Epoch 36/100\n",
            "709/709 [==============================] - 1s 2ms/step - loss: 0.3518 - accuracy: 0.8611\n",
            "Epoch 37/100\n",
            "709/709 [==============================] - 1s 2ms/step - loss: 0.3518 - accuracy: 0.8597\n",
            "Epoch 38/100\n",
            "709/709 [==============================] - 1s 2ms/step - loss: 0.3519 - accuracy: 0.8607\n",
            "Epoch 39/100\n",
            "709/709 [==============================] - 1s 2ms/step - loss: 0.3517 - accuracy: 0.8613\n",
            "Epoch 40/100\n",
            "709/709 [==============================] - 1s 2ms/step - loss: 0.3518 - accuracy: 0.8606\n",
            "Epoch 41/100\n",
            "709/709 [==============================] - 1s 2ms/step - loss: 0.3519 - accuracy: 0.8594\n",
            "Epoch 42/100\n",
            "709/709 [==============================] - 1s 2ms/step - loss: 0.3515 - accuracy: 0.8608\n",
            "Epoch 43/100\n",
            "709/709 [==============================] - 1s 2ms/step - loss: 0.3515 - accuracy: 0.8604\n",
            "Epoch 44/100\n",
            "709/709 [==============================] - 1s 2ms/step - loss: 0.3516 - accuracy: 0.8614\n",
            "Epoch 45/100\n",
            "709/709 [==============================] - 1s 2ms/step - loss: 0.3514 - accuracy: 0.8607\n",
            "Epoch 46/100\n",
            "709/709 [==============================] - 1s 2ms/step - loss: 0.3515 - accuracy: 0.8599\n",
            "Epoch 47/100\n",
            "709/709 [==============================] - 1s 2ms/step - loss: 0.3515 - accuracy: 0.8603\n",
            "Epoch 48/100\n",
            "709/709 [==============================] - 1s 2ms/step - loss: 0.3512 - accuracy: 0.8604\n",
            "Epoch 49/100\n",
            "709/709 [==============================] - 1s 2ms/step - loss: 0.3514 - accuracy: 0.8609\n",
            "Epoch 50/100\n",
            "709/709 [==============================] - 1s 2ms/step - loss: 0.3511 - accuracy: 0.8604\n",
            "Epoch 51/100\n",
            "709/709 [==============================] - 1s 2ms/step - loss: 0.3514 - accuracy: 0.8607\n",
            "Epoch 52/100\n",
            "709/709 [==============================] - 1s 2ms/step - loss: 0.3507 - accuracy: 0.8607\n",
            "Epoch 53/100\n",
            "709/709 [==============================] - 1s 2ms/step - loss: 0.3514 - accuracy: 0.8601\n",
            "Epoch 54/100\n",
            "709/709 [==============================] - 1s 2ms/step - loss: 0.3512 - accuracy: 0.8607\n",
            "Epoch 55/100\n",
            "709/709 [==============================] - 1s 2ms/step - loss: 0.3512 - accuracy: 0.8607\n",
            "Epoch 56/100\n",
            "709/709 [==============================] - 1s 2ms/step - loss: 0.3509 - accuracy: 0.8608\n",
            "Epoch 57/100\n",
            "709/709 [==============================] - 1s 2ms/step - loss: 0.3511 - accuracy: 0.8612\n",
            "Epoch 58/100\n",
            "709/709 [==============================] - 2s 3ms/step - loss: 0.3510 - accuracy: 0.8609\n",
            "Epoch 59/100\n",
            "709/709 [==============================] - 1s 2ms/step - loss: 0.3513 - accuracy: 0.8606\n",
            "Epoch 60/100\n",
            "709/709 [==============================] - 1s 2ms/step - loss: 0.3511 - accuracy: 0.8605\n",
            "Epoch 61/100\n",
            "709/709 [==============================] - 1s 2ms/step - loss: 0.3509 - accuracy: 0.8612\n",
            "Epoch 62/100\n",
            "709/709 [==============================] - 1s 2ms/step - loss: 0.3511 - accuracy: 0.8612\n",
            "Epoch 63/100\n",
            "709/709 [==============================] - 2s 2ms/step - loss: 0.3509 - accuracy: 0.8611\n",
            "Epoch 64/100\n",
            "709/709 [==============================] - 1s 2ms/step - loss: 0.3510 - accuracy: 0.8607\n",
            "Epoch 65/100\n",
            "709/709 [==============================] - 2s 2ms/step - loss: 0.3511 - accuracy: 0.8600\n",
            "Epoch 66/100\n",
            "709/709 [==============================] - 1s 2ms/step - loss: 0.3508 - accuracy: 0.8603\n",
            "Epoch 67/100\n",
            "709/709 [==============================] - 1s 2ms/step - loss: 0.3508 - accuracy: 0.8605\n",
            "Epoch 68/100\n",
            "709/709 [==============================] - 1s 2ms/step - loss: 0.3509 - accuracy: 0.8600\n",
            "Epoch 69/100\n",
            "709/709 [==============================] - 1s 2ms/step - loss: 0.3509 - accuracy: 0.8614\n",
            "Epoch 70/100\n",
            "709/709 [==============================] - 1s 2ms/step - loss: 0.3508 - accuracy: 0.8606\n",
            "Epoch 71/100\n",
            "709/709 [==============================] - 1s 2ms/step - loss: 0.3507 - accuracy: 0.8604\n",
            "Epoch 72/100\n",
            "709/709 [==============================] - 1s 2ms/step - loss: 0.3509 - accuracy: 0.8604\n",
            "Epoch 73/100\n",
            "709/709 [==============================] - 2s 2ms/step - loss: 0.3509 - accuracy: 0.8604\n",
            "Epoch 74/100\n",
            "709/709 [==============================] - 1s 2ms/step - loss: 0.3508 - accuracy: 0.8610\n",
            "Epoch 75/100\n",
            "709/709 [==============================] - 1s 2ms/step - loss: 0.3508 - accuracy: 0.8619\n",
            "Epoch 76/100\n",
            "709/709 [==============================] - 2s 2ms/step - loss: 0.3505 - accuracy: 0.8602\n",
            "Epoch 77/100\n",
            "709/709 [==============================] - 1s 2ms/step - loss: 0.3508 - accuracy: 0.8606\n",
            "Epoch 78/100\n",
            "709/709 [==============================] - 1s 2ms/step - loss: 0.3507 - accuracy: 0.8611\n",
            "Epoch 79/100\n",
            "709/709 [==============================] - 1s 2ms/step - loss: 0.3507 - accuracy: 0.8608\n",
            "Epoch 80/100\n",
            "709/709 [==============================] - 1s 2ms/step - loss: 0.3505 - accuracy: 0.8608\n",
            "Epoch 81/100\n",
            "709/709 [==============================] - 1s 2ms/step - loss: 0.3507 - accuracy: 0.8610\n",
            "Epoch 82/100\n",
            "709/709 [==============================] - 1s 2ms/step - loss: 0.3507 - accuracy: 0.8609\n",
            "Epoch 83/100\n",
            "709/709 [==============================] - 1s 2ms/step - loss: 0.3506 - accuracy: 0.8617\n",
            "Epoch 84/100\n",
            "709/709 [==============================] - 1s 2ms/step - loss: 0.3506 - accuracy: 0.8606\n",
            "Epoch 85/100\n",
            "709/709 [==============================] - 1s 2ms/step - loss: 0.3507 - accuracy: 0.8615\n",
            "Epoch 86/100\n",
            "709/709 [==============================] - 1s 2ms/step - loss: 0.3506 - accuracy: 0.8618\n",
            "Epoch 87/100\n",
            "709/709 [==============================] - 1s 2ms/step - loss: 0.3505 - accuracy: 0.8610\n",
            "Epoch 88/100\n",
            "709/709 [==============================] - 1s 2ms/step - loss: 0.3507 - accuracy: 0.8605\n",
            "Epoch 89/100\n",
            "709/709 [==============================] - 1s 2ms/step - loss: 0.3506 - accuracy: 0.8613\n",
            "Epoch 90/100\n",
            "709/709 [==============================] - 1s 2ms/step - loss: 0.3503 - accuracy: 0.8602\n",
            "Epoch 91/100\n",
            "709/709 [==============================] - 1s 2ms/step - loss: 0.3508 - accuracy: 0.8606\n",
            "Epoch 92/100\n",
            "709/709 [==============================] - 1s 2ms/step - loss: 0.3504 - accuracy: 0.8604\n",
            "Epoch 93/100\n",
            "709/709 [==============================] - 1s 2ms/step - loss: 0.3505 - accuracy: 0.8598\n",
            "Epoch 94/100\n",
            "709/709 [==============================] - 1s 2ms/step - loss: 0.3504 - accuracy: 0.8608\n",
            "Epoch 95/100\n",
            "709/709 [==============================] - 1s 2ms/step - loss: 0.3505 - accuracy: 0.8610\n",
            "Epoch 96/100\n",
            "709/709 [==============================] - 1s 2ms/step - loss: 0.3504 - accuracy: 0.8622\n",
            "Epoch 97/100\n",
            "709/709 [==============================] - 1s 2ms/step - loss: 0.3506 - accuracy: 0.8603\n",
            "Epoch 98/100\n",
            "709/709 [==============================] - 1s 2ms/step - loss: 0.3503 - accuracy: 0.8604\n",
            "Epoch 99/100\n",
            "709/709 [==============================] - 2s 3ms/step - loss: 0.3505 - accuracy: 0.8610\n",
            "Epoch 100/100\n",
            "709/709 [==============================] - 2s 3ms/step - loss: 0.3506 - accuracy: 0.8606\n"
          ]
        },
        {
          "data": {
            "text/plain": [
              "<keras.callbacks.History at 0x7f2b96793f10>"
            ]
          },
          "execution_count": 8,
          "metadata": {},
          "output_type": "execute_result"
        }
      ],
      "source": [
        "ann.fit(X_train, y_train, batch_size=32, epochs=100)"
      ]
    },
    {
      "cell_type": "markdown",
      "metadata": {
        "id": "6YIDR5og5z8U"
      },
      "source": [
        "#Predicting test-set results"
      ]
    },
    {
      "cell_type": "code",
      "execution_count": 9,
      "metadata": {
        "colab": {
          "base_uri": "https://localhost:8080/"
        },
        "id": "bdtlc7KH52Lj",
        "outputId": "92230e21-4cbe-441a-b292-70782b67bc38"
      },
      "outputs": [
        {
          "name": "stdout",
          "output_type": "stream",
          "text": [
            "[[1 1]\n",
            " [0 0]\n",
            " [0 0]\n",
            " ...\n",
            " [0 0]\n",
            " [0 0]\n",
            " [0 0]]\n"
          ]
        }
      ],
      "source": [
        "y_pred = ann.predict(X_test)\n",
        "y_pred = (y_pred > 0.5)\n",
        "print(np.concatenate((y_pred.reshape(len(y_pred), 1), y_test.reshape(len(y_test), 1)), 1))"
      ]
    },
    {
      "cell_type": "markdown",
      "metadata": {
        "id": "barktXuZ549C"
      },
      "source": [
        "#Making the confusion matrix"
      ]
    },
    {
      "cell_type": "code",
      "execution_count": 10,
      "metadata": {
        "colab": {
          "base_uri": "https://localhost:8080/"
        },
        "id": "A6u36XQF596r",
        "outputId": "07a4fe30-2dc7-4737-9603-ccb4da90ee67"
      },
      "outputs": [
        {
          "name": "stdout",
          "output_type": "stream",
          "text": [
            "[[4546  156]\n",
            " [ 672  291]]\n"
          ]
        },
        {
          "data": {
            "text/plain": [
              "0.8538393645189761"
            ]
          },
          "execution_count": 10,
          "metadata": {},
          "output_type": "execute_result"
        }
      ],
      "source": [
        "from sklearn.metrics import confusion_matrix, accuracy_score\n",
        "cm = confusion_matrix(y_test, y_pred)\n",
        "print(cm)\n",
        "accuracy_score(y_test, y_pred)"
      ]
    }
  ],
  "metadata": {
    "colab": {
      "name": "ANN-Datathon-Morning.ipynb",
      "provenance": []
    },
    "kernelspec": {
      "display_name": "Python 3",
      "name": "python3"
    },
    "language_info": {
      "name": "python"
    }
  },
  "nbformat": 4,
  "nbformat_minor": 0
}
